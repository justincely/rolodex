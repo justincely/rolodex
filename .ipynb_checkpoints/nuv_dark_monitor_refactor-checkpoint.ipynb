{
 "cells": [
  {
   "cell_type": "code",
   "execution_count": 1,
   "metadata": {},
   "outputs": [],
   "source": [
    "import os\n",
    "import yaml\n",
    "import cosmo\n",
    "import numpy\n",
    "import itertools\n",
    "from glob import glob\n",
    "from astropy.io import fits\n",
    "import matplotlib.pyplot as plt\n",
    "from matplotlib.ticker import FormatStrFormatter\n",
    "from cosmo.monitors.data_models import NUVDarkDataModel\n",
    "from cosmo.filesystem import find_files, data_from_exposures, data_from_jitters\n",
    "from cosmo.monitor_helpers import absolute_time, explode_df\n",
    "from monitorframe.datamodel import BaseDataModel\n",
    "from monitorframe.monitor import BaseMonitor"
   ]
  },
  {
   "cell_type": "code",
   "execution_count": 2,
   "metadata": {},
   "outputs": [],
   "source": [
    "with open(os.environ['COSMO_CONFIG']) as yamlfile:\n",
    "    SETTINGS = yaml.safe_load(yamlfile)\n",
    "\n",
    "FILES_SOURCE = SETTINGS['filesystem']['source']\n",
    "COS_MONITORING = SETTINGS['output']"
   ]
  },
  {
   "cell_type": "code",
   "execution_count": 3,
   "metadata": {},
   "outputs": [],
   "source": [
    "class NUVDarkDataModel(BaseDataModel):\n",
    "    cosmo_layout = False\n",
    "#     program_ids = ['15776/', '15538/', '14942/', '14521/', '14442/', '13974/', \n",
    "#                        '13528/', '13126/', '12720/', '12420/', '11894/']\n",
    "    program_ids = ['15538/']\n",
    "    # subdir_pattern = '?????'\n",
    "    # ^ this will need to be added back once we have an all corrtag model\n",
    "\n",
    "    def get_new_data(self):\n",
    "        header_request = {\n",
    "            0: ['ROOTNAME'],\n",
    "            1: ['EXPTIME', 'EXPSTART']\n",
    "        }\n",
    "\n",
    "        table_request = {\n",
    "            1: ['XCORR', 'YCORR', 'TIME'],\n",
    "            3: ['TIME', 'LATITUDE', 'LONGITUDE']\n",
    "        }\n",
    "\n",
    "        files = []\n",
    "\n",
    "        for prog_id in self.program_ids:\n",
    "            new_files_source = os.path.join(FILES_SOURCE, prog_id)\n",
    "            files += find_files('*corrtag*', data_dir=new_files_source)\n",
    "\n",
    "        if self.model is not None:\n",
    "            currently_ingested = [item.FILENAME for item in self.model.select(self.model.FILENAME)]\n",
    "\n",
    "            for file in currently_ingested:\n",
    "                files.remove(file)\n",
    "\n",
    "        if not files:   # No new files\n",
    "            return pd.DataFrame()\n",
    "\n",
    "        data_results = data_from_exposures(\n",
    "            files,\n",
    "            header_request=header_request,\n",
    "            table_request=table_request\n",
    "        )\n",
    "\n",
    "        return data_results"
   ]
  },
  {
   "cell_type": "code",
   "execution_count": null,
   "metadata": {},
   "outputs": [],
   "source": []
  }
 ],
 "metadata": {
  "kernelspec": {
   "display_name": "Python 3",
   "language": "python",
   "name": "python3"
  },
  "language_info": {
   "codemirror_mode": {
    "name": "ipython",
    "version": 3
   },
   "file_extension": ".py",
   "mimetype": "text/x-python",
   "name": "python",
   "nbconvert_exporter": "python",
   "pygments_lexer": "ipython3",
   "version": "3.7.6"
  }
 },
 "nbformat": 4,
 "nbformat_minor": 4
}
